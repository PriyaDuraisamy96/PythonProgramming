{
 "cells": [
  {
   "cell_type": "markdown",
   "id": "d488022f",
   "metadata": {},
   "source": [
    "# List and its Function with example"
   ]
  },
  {
   "cell_type": "markdown",
   "id": "e06df7a8",
   "metadata": {},
   "source": [
    "#### Definition of List and its properties."
   ]
  },
  {
   "cell_type": "markdown",
   "id": "60cfc255",
   "metadata": {},
   "source": [
    "1. The list is a sequence data type which is used to store the collection of data.\n",
    "Syntax : list_name [list_element1,list_element2,...]\n",
    "2. List is one of the built-in data types in Python. \n",
    "3. It is a sequence of comma separated items, enclosed in square brackets []. \n",
    "4. The items in a list need not be of the same data type.\n",
    "5. Each item in a list has a unique position index, starting from 0.\n",
    "6. list is mutable. Any item from the list can be accessed using its index, and can be modified. \n",
    "7. One or more objects from the list can be removed or added. "
   ]
  },
  {
   "cell_type": "markdown",
   "id": "8703d014",
   "metadata": {},
   "source": [
    "#### Creating List"
   ]
  },
  {
   "cell_type": "code",
   "execution_count": 43,
   "id": "44a193f9",
   "metadata": {},
   "outputs": [],
   "source": [
    "list1=[10,20,30,40,50]"
   ]
  },
  {
   "cell_type": "code",
   "execution_count": 98,
   "id": "c34dd9dd",
   "metadata": {},
   "outputs": [],
   "source": [
    "list2=[8,2,9,6,7,1,5]"
   ]
  },
  {
   "cell_type": "markdown",
   "id": "9ece48ad",
   "metadata": {},
   "source": [
    "#### List Methods or functions"
   ]
  },
  {
   "cell_type": "code",
   "execution_count": 13,
   "id": "b79b6298",
   "metadata": {},
   "outputs": [
    {
     "name": "stdout",
     "output_type": "stream",
     "text": [
      "Help on method_descriptor:\n",
      "\n",
      "append(self, object, /)\n",
      "    Append object to the end of the list.\n",
      "\n"
     ]
    }
   ],
   "source": [
    "help (list.append)"
   ]
  },
  {
   "cell_type": "code",
   "execution_count": 44,
   "id": "a5aa6902",
   "metadata": {},
   "outputs": [
    {
     "name": "stdout",
     "output_type": "stream",
     "text": [
      "[10, 20, 30, 40, 50, 60]\n"
     ]
    }
   ],
   "source": [
    "list1.append(60)\n",
    "print(list1)"
   ]
  },
  {
   "cell_type": "code",
   "execution_count": 19,
   "id": "0dde4710",
   "metadata": {},
   "outputs": [
    {
     "name": "stdout",
     "output_type": "stream",
     "text": [
      "Help on method_descriptor:\n",
      "\n",
      "clear(self, /)\n",
      "    Remove all items from list.\n",
      "\n"
     ]
    }
   ],
   "source": [
    "help (list.clear)"
   ]
  },
  {
   "cell_type": "code",
   "execution_count": 23,
   "id": "a5ea6c24",
   "metadata": {},
   "outputs": [
    {
     "name": "stdout",
     "output_type": "stream",
     "text": [
      "[]\n"
     ]
    }
   ],
   "source": [
    "list1.clear()\n",
    "print(list1)"
   ]
  },
  {
   "cell_type": "code",
   "execution_count": 25,
   "id": "9fd2368e",
   "metadata": {},
   "outputs": [
    {
     "name": "stdout",
     "output_type": "stream",
     "text": [
      "Help on method_descriptor:\n",
      "\n",
      "copy(self, /)\n",
      "    Return a shallow copy of the list.\n",
      "\n"
     ]
    }
   ],
   "source": [
    "help (list.copy)"
   ]
  },
  {
   "cell_type": "code",
   "execution_count": 31,
   "id": "8a72ff00",
   "metadata": {},
   "outputs": [
    {
     "name": "stdout",
     "output_type": "stream",
     "text": [
      "list1 value : [10, 20, 30, 40, 50]\n",
      "list2 value : [10, 20, 30, 40, 50]\n"
     ]
    }
   ],
   "source": [
    "list1.copy()\n",
    "list2=list1.copy()\n",
    "print(\"list1 value :\",list1)\n",
    "print(\"list2 value :\",list2)"
   ]
  },
  {
   "cell_type": "code",
   "execution_count": 32,
   "id": "f2bb6f5c",
   "metadata": {},
   "outputs": [
    {
     "name": "stdout",
     "output_type": "stream",
     "text": [
      "Help on method_descriptor:\n",
      "\n",
      "count(self, value, /)\n",
      "    Return number of occurrences of value.\n",
      "\n"
     ]
    }
   ],
   "source": [
    "help (list.count)"
   ]
  },
  {
   "cell_type": "code",
   "execution_count": 35,
   "id": "8d45a895",
   "metadata": {},
   "outputs": [
    {
     "data": {
      "text/plain": [
       "1"
      ]
     },
     "execution_count": 35,
     "metadata": {},
     "output_type": "execute_result"
    }
   ],
   "source": [
    "list1.count(10)"
   ]
  },
  {
   "cell_type": "code",
   "execution_count": 36,
   "id": "02f8ffba",
   "metadata": {},
   "outputs": [
    {
     "name": "stdout",
     "output_type": "stream",
     "text": [
      "Help on method_descriptor:\n",
      "\n",
      "extend(self, iterable, /)\n",
      "    Extend list by appending elements from the iterable.\n",
      "\n"
     ]
    }
   ],
   "source": [
    "help (list.extend)"
   ]
  },
  {
   "cell_type": "code",
   "execution_count": 45,
   "id": "f5ac2c58",
   "metadata": {},
   "outputs": [
    {
     "name": "stdout",
     "output_type": "stream",
     "text": [
      "[10, 20, 30, 40, 50, 60, 70, 80]\n"
     ]
    }
   ],
   "source": [
    "list1.extend([70,80])\n",
    "print(list1)"
   ]
  },
  {
   "cell_type": "code",
   "execution_count": 46,
   "id": "a723cb54",
   "metadata": {},
   "outputs": [
    {
     "name": "stdout",
     "output_type": "stream",
     "text": [
      "Help on method_descriptor:\n",
      "\n",
      "index(self, value, start=0, stop=9223372036854775807, /)\n",
      "    Return first index of value.\n",
      "    \n",
      "    Raises ValueError if the value is not present.\n",
      "\n"
     ]
    }
   ],
   "source": [
    "help (list.index)"
   ]
  },
  {
   "cell_type": "code",
   "execution_count": 95,
   "id": "bb178992",
   "metadata": {},
   "outputs": [
    {
     "name": "stdout",
     "output_type": "stream",
     "text": [
      "List value :  [1, 2, 3, 4, 5]\n",
      "List value at first position : 1\n",
      "List value at 3rd position : 3\n",
      "List value at last position : 5\n",
      "List value at first 3 position : [1, 2, 3]\n",
      "List value at last 2 position : [4, 5]\n"
     ]
    }
   ],
   "source": [
    "list1=[1,2,3,4,5]\n",
    "print(\"List value : \" ,list1)\n",
    "print(\"List value at first position :\" ,list1[0])\n",
    "print(\"List value at 3rd position :\" ,list1[2])\n",
    "print(\"List value at last position :\" ,list1[-1])\n",
    "print(\"List value at first 3 position :\" ,list1[:3])\n",
    "print(\"List value at last 2 position :\" ,list1[-2:])"
   ]
  },
  {
   "cell_type": "code",
   "execution_count": 64,
   "id": "6a71d208",
   "metadata": {},
   "outputs": [
    {
     "name": "stdout",
     "output_type": "stream",
     "text": [
      "Help on method_descriptor:\n",
      "\n",
      "insert(self, index, object, /)\n",
      "    Insert object before index.\n",
      "\n"
     ]
    }
   ],
   "source": [
    "help (list.insert)"
   ]
  },
  {
   "cell_type": "code",
   "execution_count": 82,
   "id": "8b69d702",
   "metadata": {},
   "outputs": [
    {
     "name": "stdout",
     "output_type": "stream",
     "text": [
      "Inserting the value 100 to 2nd position :  [1, 100, 2, 3, 4, 5]\n"
     ]
    }
   ],
   "source": [
    "list1.insert(1,100)\n",
    "print(\"Inserting the value 100 to 2nd position : \", list1)"
   ]
  },
  {
   "cell_type": "code",
   "execution_count": 78,
   "id": "a0f4ee41",
   "metadata": {},
   "outputs": [
    {
     "name": "stdout",
     "output_type": "stream",
     "text": [
      "Help on method_descriptor:\n",
      "\n",
      "pop(self, index=-1, /)\n",
      "    Remove and return item at index (default last).\n",
      "    \n",
      "    Raises IndexError if list is empty or index is out of range.\n",
      "\n"
     ]
    }
   ],
   "source": [
    "help (list.pop)"
   ]
  },
  {
   "cell_type": "code",
   "execution_count": 87,
   "id": "ee18dc7f",
   "metadata": {},
   "outputs": [
    {
     "name": "stdout",
     "output_type": "stream",
     "text": [
      "List value before poping:  [1, 2, 3, 4, 5]\n",
      "List value after poping :  [1, 2, 3, 4]\n"
     ]
    }
   ],
   "source": [
    "print(\"List value before poping: \", list1)\n",
    "list1.pop()\n",
    "print(\"List value after poping : \", list1)"
   ]
  },
  {
   "cell_type": "code",
   "execution_count": 88,
   "id": "05c4dc22",
   "metadata": {},
   "outputs": [
    {
     "name": "stdout",
     "output_type": "stream",
     "text": [
      "Help on method_descriptor:\n",
      "\n",
      "remove(self, value, /)\n",
      "    Remove first occurrence of value.\n",
      "    \n",
      "    Raises ValueError if the value is not present.\n",
      "\n"
     ]
    }
   ],
   "source": [
    "help (list.remove)"
   ]
  },
  {
   "cell_type": "code",
   "execution_count": 89,
   "id": "42d7fb76",
   "metadata": {},
   "outputs": [
    {
     "name": "stdout",
     "output_type": "stream",
     "text": [
      "List value before remove():  [1, 2, 3, 4]\n",
      "List value after remove() :  [1, 3, 4]\n"
     ]
    }
   ],
   "source": [
    "print(\"List value before remove(): \", list1)\n",
    "list1.remove(2)\n",
    "print(\"List value after remove() : \", list1)"
   ]
  },
  {
   "cell_type": "code",
   "execution_count": 90,
   "id": "8828a8ea",
   "metadata": {},
   "outputs": [
    {
     "name": "stdout",
     "output_type": "stream",
     "text": [
      "Help on method_descriptor:\n",
      "\n",
      "reverse(self, /)\n",
      "    Reverse *IN PLACE*.\n",
      "\n"
     ]
    }
   ],
   "source": [
    "help (list.reverse)"
   ]
  },
  {
   "cell_type": "code",
   "execution_count": 96,
   "id": "11eb6849",
   "metadata": {},
   "outputs": [
    {
     "name": "stdout",
     "output_type": "stream",
     "text": [
      "List value before reverse():  [1, 2, 3, 4, 5]\n",
      "List value after reverse() :  [5, 4, 3, 2, 1]\n"
     ]
    }
   ],
   "source": [
    "print(\"List value before reverse(): \", list1)\n",
    "list1.reverse()\n",
    "print(\"List value after reverse() : \", list1)"
   ]
  },
  {
   "cell_type": "code",
   "execution_count": 97,
   "id": "5c1d2ff5",
   "metadata": {},
   "outputs": [
    {
     "name": "stdout",
     "output_type": "stream",
     "text": [
      "Help on method_descriptor:\n",
      "\n",
      "sort(self, /, *, key=None, reverse=False)\n",
      "    Sort the list in ascending order and return None.\n",
      "    \n",
      "    The sort is in-place (i.e. the list itself is modified) and stable (i.e. the\n",
      "    order of two equal elements is maintained).\n",
      "    \n",
      "    If a key function is given, apply it once to each list item and sort them,\n",
      "    ascending or descending, according to their function values.\n",
      "    \n",
      "    The reverse flag can be set to sort in descending order.\n",
      "\n"
     ]
    }
   ],
   "source": [
    "help (list.sort)"
   ]
  },
  {
   "cell_type": "code",
   "execution_count": 99,
   "id": "eff13b30",
   "metadata": {},
   "outputs": [
    {
     "name": "stdout",
     "output_type": "stream",
     "text": [
      "List value before sort():  [8, 2, 9, 6, 7, 1, 5]\n",
      "List value after sort() :  [1, 2, 5, 6, 7, 8, 9]\n"
     ]
    }
   ],
   "source": [
    "print(\"List value before sort(): \", list2)\n",
    "list2.sort()\n",
    "print(\"List value after sort() : \", list2)"
   ]
  },
  {
   "cell_type": "code",
   "execution_count": null,
   "id": "b187c01b",
   "metadata": {},
   "outputs": [],
   "source": []
  }
 ],
 "metadata": {
  "kernelspec": {
   "display_name": "Python 3 (ipykernel)",
   "language": "python",
   "name": "python3"
  },
  "language_info": {
   "codemirror_mode": {
    "name": "ipython",
    "version": 3
   },
   "file_extension": ".py",
   "mimetype": "text/x-python",
   "name": "python",
   "nbconvert_exporter": "python",
   "pygments_lexer": "ipython3",
   "version": "3.9.7"
  }
 },
 "nbformat": 4,
 "nbformat_minor": 5
}
